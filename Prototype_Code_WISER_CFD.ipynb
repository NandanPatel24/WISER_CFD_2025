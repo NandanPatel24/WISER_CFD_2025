{
  "nbformat": 4,
  "nbformat_minor": 0,
  "metadata": {
    "colab": {
      "provenance": [],
      "gpuType": "T4"
    },
    "kernelspec": {
      "name": "python3",
      "display_name": "Python 3"
    },
    "language_info": {
      "name": "python"
    },
    "accelerator": "GPU"
  },
  "cells": [
    {
      "cell_type": "code",
      "source": [
        "!pip install quimb qiskit qiskit-aer qiskit-ibm-runtime numpy scipy matplotlib qutip"
      ],
      "metadata": {
        "id": "y5dgub2pg-kO"
      },
      "execution_count": null,
      "outputs": []
    },
    {
      "cell_type": "code",
      "source": [
        "!pip install --upgrade qiskit-ibm-runtime"
      ],
      "metadata": {
        "id": "9TfAaXbT2LaW"
      },
      "execution_count": null,
      "outputs": []
    },
    {
      "cell_type": "markdown",
      "source": [
        "### **Step 1: Defining the parameters and importing the libraries**"
      ],
      "metadata": {
        "id": "DXr2fh3Sw7Fa"
      }
    },
    {
      "cell_type": "code",
      "source": [
        "import numpy as np\n",
        "from qiskit import QuantumCircuit, ClassicalRegister, QuantumRegister\n",
        "from qiskit_aer import AerSimulator\n",
        "from qiskit_aer.noise import NoiseModel\n",
        "from qiskit_ibm_runtime import QiskitRuntimeService\n",
        "from qiskit.transpiler.preset_passmanagers import generate_preset_pass_manager\n",
        "from qutip import Qobj, krylovsolve\n",
        "import matplotlib.pyplot as plt\n",
        "import time\n",
        "\n",
        "# Parameters\n",
        "N = 16  # Grid points (1D for Cole-Hopf)\n",
        "dx = 1.0 / (N - 1)\n",
        "nu = 0.1\n",
        "dt = 0.0005\n",
        "u_L = 1.0\n",
        "u_R = 0.0\n",
        "x = np.linspace(0, 1, N)\n",
        "n_qubits = int(np.ceil(np.log2(N)))  # 4 qubits\n",
        "SHOTS = 8192\n",
        "fixed_x_idx = 8\n",
        "use_derivative_oracle = False\n",
        "\n",
        "# Time step sets\n",
        "time_step_sets = [\n",
        "    [0.0, 0.005, 0.01],\n",
        "    [0.0, 0.0025, 0.005, 0.0075, 0.01],\n",
        "    [0.0, 0.002, 0.004, 0.006, 0.008, 0.01]\n",
        "]"
      ],
      "metadata": {
        "id": "G12YFYCykvQv"
      },
      "execution_count": null,
      "outputs": []
    },
    {
      "cell_type": "markdown",
      "source": [
        "Step 2: Setting up the backend and defining the Cole-Hopf transform"
      ],
      "metadata": {
        "id": "WO8BUfkNxWyj"
      }
    },
    {
      "cell_type": "code",
      "source": [
        "# Step 2: Cole-Hopf Transform\n",
        "u_0 = np.sin(np.pi * x)\n",
        "integral_u = np.zeros(N)\n",
        "for i in range(1, N):\n",
        "    integral_u[i] = integral_u[i-1] + 0.5 * dx * (u_0[i-1] + u_0[i])\n",
        "psi_0 = np.exp(-integral_u / (2 * nu))\n",
        "psi_0 = psi_0 / np.linalg.norm(psi_0)\n",
        "psi_0_padded = np.pad(psi_0, (0, 2**n_qubits - N), mode='constant')\n",
        "psi_0_padded = psi_0_padded / np.linalg.norm(psi_0_padded)\n",
        "\n",
        "# Backend setup\n",
        "try:\n",
        "    service = QiskitRuntimeService(channel=\"ibm_cloud\", token=\"crawIW-p8bwcIk25BlpY1u_Ui2jEPt9NKQ_9tZYEIevf\", instance=\"crn:v1:bluemix:public:quantum-computing:us-east:a/00b9ddaacd6b43b8a0403feb24ecf512:788e6594-fce2-41e0-973a-9d6c14c4c0ec::\")\n",
        "    backend = service.backend(\"ibm_torino\")\n",
        "except Exception as e:\n",
        "    print(f\"Error accessing ibm_torino: {e}\")\n",
        "    backend = AerSimulator()\n",
        "    print(\"Using AerSimulator as fallback\")\n",
        "\n",
        "try:\n",
        "    noise_model = NoiseModel.from_backend(backend)\n",
        "    print(\"Noise model applied successfully\")\n",
        "except Exception as e:\n",
        "    noise_model = None\n",
        "    print(f\"No noise model; using ideal simulator: {e}\")\n",
        "\n",
        "# Transpilation setup\n",
        "layout = list(range(n_qubits))  # 4 qubits for Noisy/ZNE\n",
        "pm = generate_preset_pass_manager(optimization_level=1, backend=backend)"
      ],
      "metadata": {
        "id": "QHX-qm90q0X8"
      },
      "execution_count": null,
      "outputs": []
    },
    {
      "cell_type": "markdown",
      "source": [
        "Step 3: Creating the Trotter circuit"
      ],
      "metadata": {
        "id": "2_hMeQifxguv"
      }
    },
    {
      "cell_type": "code",
      "source": [
        "# Step 3: Trotter Circuit\n",
        "def create_trotter_circuit(scale_factor, t, dt, n_qubits, psi_0_padded, noise_scale=1):\n",
        "    qr = QuantumRegister(n_qubits, 'q')\n",
        "    cr = ClassicalRegister(n_qubits, 'meas')\n",
        "    qc = QuantumCircuit(qr, cr)\n",
        "    qc.initialize(psi_0_padded, qr)\n",
        "    steps = max(1, int(t / dt))\n",
        "    for _ in range(steps):\n",
        "        for i in range(n_qubits-1):\n",
        "            for _ in range(scale_factor * noise_scale):\n",
        "                qc.rxx(2 * nu * dt / dx**2, i, i+1)\n",
        "            qc.barrier()\n",
        "    qc.measure(qr, cr)\n",
        "    return qc"
      ],
      "metadata": {
        "id": "LW416vNzwbB9"
      },
      "execution_count": null,
      "outputs": []
    },
    {
      "cell_type": "markdown",
      "source": [
        "Step 4: ZNE Implementation"
      ],
      "metadata": {
        "id": "Fjvc0r19xpRf"
      }
    },
    {
      "cell_type": "code",
      "source": [
        "# Step 4: ZNE Implementation\n",
        "def run_zne_circuit(t, dt, n_qubits, psi_0_padded, simulator, noise_model, pm, shots):\n",
        "    noise_scales = [1, 3]\n",
        "    results = []\n",
        "    qc_transpiled = None\n",
        "    for scale in noise_scales:\n",
        "        qc = create_trotter_circuit(1, t, dt, n_qubits, psi_0_padded, noise_scale=scale)\n",
        "        qc_transpiled = pm.run(qc)\n",
        "        job = simulator.run(qc_transpiled, shots=shots, noise_model=noise_model)\n",
        "        counts = job.result().get_counts()\n",
        "        psi_t = np.sqrt(np.array([counts.get(bin(i).replace('0b', '').zfill(n_qubits), 0) for i in range(N)])) / np.sqrt(shots)\n",
        "        psi_t = psi_t / np.linalg.norm(psi_t) if np.linalg.norm(psi_t) > 0 else psi_t\n",
        "        u_t = np.zeros(N)\n",
        "        for i in range(1, N-1):\n",
        "            u_t[i] = -2 * nu * (psi_t[i+1] - psi_t[i-1]) / (2 * dx * max(psi_t[i], 1e-10))\n",
        "        u_t[0] = u_L\n",
        "        u_t[-1] = u_R\n",
        "        results.append(u_t)\n",
        "    u_zne = 1.5 * results[0] - 0.5 * results[1]\n",
        "    u_zne = np.clip(u_zne, -1, 2)\n",
        "    return u_zne, qc_transpiled"
      ],
      "metadata": {
        "id": "tcwgJPTUwfWj"
      },
      "execution_count": null,
      "outputs": []
    },
    {
      "cell_type": "markdown",
      "source": [
        "Step 5: Define the tridiagonal Laplacian matrix"
      ],
      "metadata": {
        "id": "D0N7V4UBxuKM"
      }
    },
    {
      "cell_type": "code",
      "source": [
        "# Step 5: Laplacian Matrix for QuTiP and Classical\n",
        "def create_laplacian_matrix(N, dx, nu, u_L, u_R):\n",
        "    L = np.zeros((N, N))\n",
        "    for i in range(N):\n",
        "        L[i, i] = -2 / dx**2\n",
        "        if i > 0:\n",
        "            L[i, i-1] = 1 / dx**2\n",
        "        if i < N-1:\n",
        "            L[i, i+1] = 1 / dx**2\n",
        "    L[0, 0] = L[-1, -1] = 0  # Boundary conditions\n",
        "    return L"
      ],
      "metadata": {
        "id": "pQl2erMIwihK"
      },
      "execution_count": null,
      "outputs": []
    },
    {
      "cell_type": "markdown",
      "source": [
        "Step 6: Execute the quantum circuit and the classical Krylov solver and note down the resouces used"
      ],
      "metadata": {
        "id": "jFf5Clcex1L7"
      }
    },
    {
      "cell_type": "code",
      "source": [
        "# Step 6: Process Time Step Sets\n",
        "simulator = AerSimulator()\n",
        "\n",
        "for time_steps in time_step_sets:\n",
        "    u_noisy_steps = []\n",
        "    u_zne_steps = []\n",
        "    u_t_steps = []\n",
        "    u_classical_steps = []\n",
        "    circuit_depths_noisy = []\n",
        "    circuit_depths_zne = []\n",
        "    two_qubit_gates_noisy = []\n",
        "    two_qubit_gates_zne = []\n",
        "    l2_errors_qutip = []\n",
        "    shock_positions_noisy = []\n",
        "    shock_positions_zne = []\n",
        "    shock_positions_qutip = []\n",
        "    dissipation_rates_noisy = []\n",
        "    dissipation_rates_zne = []\n",
        "    dissipation_rates_qutip = []\n",
        "    u_classical_fixed_points = []\n",
        "    wall_times = []\n",
        "    start_time = time.time()\n",
        "\n",
        "    # QuTiP and Classical for 6-step set\n",
        "    if len(time_steps) == 6:\n",
        "        psi_0_vector = psi_0  # Use psi_0 from Cole-Hopf\n",
        "        L_matrix = create_laplacian_matrix(N, dx, nu, u_L, u_R)\n",
        "        H_qutip = Qobj(-1j * nu * L_matrix)  # Qobj for krylovsolve\n",
        "\n",
        "        for t in time_steps:\n",
        "            steps = int(t / dt) if t > 0 else 0\n",
        "            tlist = np.linspace(0, t, steps + 1) if t > 0 else [0]\n",
        "\n",
        "            # QuTiP Krylov\n",
        "            if t > 0:\n",
        "                result = krylovsolve(H_qutip, Qobj(psi_0_vector), tlist, krylov_dim=10)\n",
        "                psi_t = np.real(result.states[-1].full().flatten())\n",
        "            else:\n",
        "                psi_t = psi_0_vector\n",
        "\n",
        "            u_t = np.zeros(N)\n",
        "            if use_derivative_oracle:\n",
        "                u_t[1:N-1] = -2 * nu * psi_t[1:N-1] / (psi_0[1:N-1] + 1e-10)\n",
        "            else:\n",
        "                for i in range(1, N-1):\n",
        "                    u_t[i] = -2 * nu * (psi_t[i+1] - psi_t[i-1]) / (2 * dx * (psi_t[i] + 1e-10))\n",
        "            u_t[0] = u_L\n",
        "            u_t[-1] = u_R\n",
        "            u_t_steps.append(u_t)\n",
        "\n",
        "            # Classical Solution (Benchmark)\n",
        "            if t == 0:\n",
        "                psi_classical = psi_0\n",
        "            else:\n",
        "                result = krylovsolve(H_qutip, Qobj(psi_0), tlist, krylov_dim=10)\n",
        "                psi_classical = np.real(result.states[-1].full().flatten())\n",
        "            u_classical = np.zeros(N)\n",
        "            for i in range(1, N-1):\n",
        "                u_classical[i] = -2 * nu * (psi_classical[i+1] - psi_classical[i-1]) / (2 * dx * (psi_classical[i] + 1e-10))\n",
        "            u_classical[0] = u_L\n",
        "            u_classical[-1] = u_R\n",
        "            u_classical_steps.append(u_classical)\n",
        "            u_classical_fixed_points.append(u_classical[fixed_x_idx])\n",
        "\n",
        "            l2_error = np.linalg.norm(u_t - u_classical)\n",
        "            l2_errors_qutip.append(l2_error if l2_error < 1e3 else np.nan)\n",
        "\n",
        "            shock_idx = np.argmin(np.abs(u_t - 0.5)) if np.any(np.abs(u_t - 0.5) < 0.5) else N//2\n",
        "            shock_pos = x[shock_idx]\n",
        "            shock_positions_qutip.append(shock_pos)\n",
        "\n",
        "            grad_u = np.gradient(u_t, dx)\n",
        "            dissipation = nu * np.sum(grad_u**2) * dx\n",
        "            dissipation_rates_qutip.append(dissipation)\n",
        "\n",
        "    # Noisy Quantum and ZNE\n",
        "    for t in time_steps:\n",
        "        qc = create_trotter_circuit(1, t, dt, n_qubits, psi_0_padded, noise_scale=1)\n",
        "        qc_transpiled = pm.run(qc)\n",
        "        circuit_depths_noisy.append(qc_transpiled.depth())\n",
        "        ops = qc_transpiled.count_ops()\n",
        "        two_qubit_count = sum(ops.get(gate, 0) for gate in ['rxx', 'cx', 'cnot'])\n",
        "        two_qubit_gates_noisy.append(two_qubit_count)\n",
        "        print(f\"t={t}: Noisy Ops = {ops}, Two-qubit gates = {two_qubit_count}\")\n",
        "        job_sim = simulator.run(qc_transpiled, shots=SHOTS, noise_model=noise_model)\n",
        "        counts = job_sim.result().get_counts()\n",
        "        psi_t = np.sqrt(np.array([counts.get(bin(i).replace('0b', '').zfill(n_qubits), 0) for i in range(N)])) / np.sqrt(SHOTS)\n",
        "        psi_t = psi_t / np.linalg.norm(psi_t) if np.linalg.norm(psi_t) > 0 else psi_t\n",
        "        u_t = np.zeros(N)\n",
        "        for i in range(1, N-1):\n",
        "            u_t[i] = -2 * nu * (psi_t[i+1] - psi_t[i-1]) / (2 * dx * max(psi_t[i], 1e-10))\n",
        "        u_t[0] = u_L\n",
        "        u_t[-1] = u_R\n",
        "        u_noisy_steps.append(u_t)\n",
        "\n",
        "        shock_pos = x[np.argmax(np.abs(np.diff(u_t) / dx))]\n",
        "        u_x = np.diff(u_t) / dx\n",
        "        dissipation_rate = nu * np.sum(u_x**2) * dx\n",
        "        shock_positions_noisy.append(shock_pos)\n",
        "        dissipation_rates_noisy.append(dissipation_rate)\n",
        "\n",
        "        u_zne, qc_zne_transpiled = run_zne_circuit(t, dt, n_qubits, psi_0_padded, simulator, noise_model, pm, SHOTS)\n",
        "        u_zne_steps.append(u_zne)\n",
        "        circuit_depths_zne.append(qc_zne_transpiled.depth())\n",
        "        ops_zne = qc_zne_transpiled.count_ops()\n",
        "        two_qubit_count_zne = sum(ops_zne.get(gate, 0) for gate in ['rxx', 'cx', 'cnot','cz'])\n",
        "        two_qubit_gates_zne.append(two_qubit_count_zne)\n",
        "\n",
        "        shock_pos_zne = x[np.argmax(np.abs(np.diff(u_zne) / dx))]\n",
        "        u_x_zne = np.diff(u_zne) / dx\n",
        "        dissipation_rate_zne = nu * np.sum(u_x_zne**2) * dx\n",
        "        shock_positions_zne.append(shock_pos_zne)\n",
        "        dissipation_rates_zne.append(dissipation_rate_zne)\n",
        "\n",
        "    wall_times.append(time.time() - start_time)"
      ],
      "metadata": {
        "id": "cceW1WhkwpQ9"
      },
      "execution_count": null,
      "outputs": []
    },
    {
      "cell_type": "markdown",
      "source": [
        "Step 7: Plot the u values for all the time steps, the circuit depth, and Dissipation rates"
      ],
      "metadata": {
        "id": "oGnQ8YLXyGMN"
      }
    },
    {
      "cell_type": "code",
      "source": [
        "    # Plotting: 6 graphs for 6-step set, each with Noisy, ZNE, and Classical\n",
        "    if len(time_steps) == 6:\n",
        "        for i, t in enumerate(time_steps):\n",
        "            plt.figure(figsize=(10, 6))\n",
        "            plt.plot(x, u_noisy_steps[i], marker='o', linestyle='-', label='Noisy Quantum')\n",
        "            plt.plot(x, u_zne_steps[i], marker='s', linestyle='--', label='ZNE')\n",
        "            plt.plot(x, u_classical_steps[i], marker='^', linestyle=':', label='Classical')\n",
        "            plt.xlabel('x')\n",
        "            plt.ylabel('u(x,t)')\n",
        "            plt.title(f'Burgers\\' Solution at t={t:.3f} (Noisy, ZNE, Classical)')\n",
        "            plt.legend()\n",
        "            plt.grid(True)\n",
        "            plt.show()\n",
        "\n",
        "        # Dissipation Rate Plot\n",
        "        plt.figure(figsize=(10, 6))\n",
        "        plt.plot(time_steps, dissipation_rates_noisy, marker='o', linestyle='-', label='Noisy Quantum')\n",
        "        plt.plot(time_steps, dissipation_rates_zne, marker='s', linestyle='--', label='ZNE')\n",
        "        plt.plot(time_steps, dissipation_rates_qutip, marker='^', linestyle=':', label='QuTiP')\n",
        "        plt.xlabel('Time (t)')\n",
        "        plt.ylabel('Dissipation Rate')\n",
        "        plt.title('Dissipation Rate vs Time (6 Time Steps)')\n",
        "        plt.legend()\n",
        "        plt.grid(True)\n",
        "        plt.show()\n",
        "\n",
        "    # Circuit Depth Plot\n",
        "    plt.figure(figsize=(10, 6))\n",
        "    plt.plot(time_steps, circuit_depths_noisy, marker='o', label='Noisy Quantum Depth')\n",
        "    plt.plot(time_steps, circuit_depths_zne, marker='s', label='ZNE Depth')\n",
        "    plt.xlabel('Time (t)')\n",
        "    plt.ylabel('Circuit Depth')\n",
        "    plt.title(f'Circuit Depth vs Time ({len(time_steps)} Time Steps)')\n",
        "    plt.legend()\n",
        "    plt.grid(True)\n",
        "    plt.show()"
      ],
      "metadata": {
        "id": "01jgZrvEwyss"
      },
      "execution_count": null,
      "outputs": []
    },
    {
      "cell_type": "markdown",
      "source": [
        "Step 8: Print the L2 errors, Shock Front Positions, Wall clock times and all the other resources used"
      ],
      "metadata": {
        "id": "Mk6MLkLhyRIk"
      }
    },
    {
      "cell_type": "code",
      "source": [
        "    # Print Metrics\n",
        "    print(f\"\\nTime Steps: {time_steps}\")\n",
        "    if len(time_steps) == 6:\n",
        "        print(f\"L2 Errors (QuTiP vs Classical): {l2_errors_qutip}\")\n",
        "    print(f\"Shock Front Positions (Noisy): {shock_positions_noisy}\")\n",
        "    print(f\"Shock Front Positions (ZNE): {shock_positions_zne}\")\n",
        "    if len(time_steps) == 6:\n",
        "        print(f\"Shock Front Positions (QuTiP): {shock_positions_qutip}\")\n",
        "    print(f\"Dissipation Rates (Noisy): {dissipation_rates_noisy}\")\n",
        "    print(f\"Dissipation Rates (ZNE): {dissipation_rates_zne}\")\n",
        "    if len(time_steps) == 6:\n",
        "        print(f\"Dissipation Rates (QuTiP): {dissipation_rates_qutip}\")\n",
        "    print(f\"Classical Fixed Points (x={x[fixed_x_idx]}): {u_classical_fixed_points}\")\n",
        "    print(f\"Wall-clock time: {wall_times[-1]:.2f} seconds\")\n",
        "    print(f\"Quantum Metrics (Noisy):\")\n",
        "    print(f\"  Qubits: {n_qubits}\")\n",
        "    print(f\"  Circuit Depths: {circuit_depths_noisy}\")\n",
        "    print(f\"  Two-qubit Gates: {two_qubit_gates_noisy}\")\n",
        "    print(f\"  T-count: {qc_transpiled.count_ops().get('t', 0)}\")\n",
        "    print(f\"Quantum Metrics (ZNE):\")\n",
        "    print(f\"  Qubits: {n_qubits}\")\n",
        "    print(f\"  Circuit Depths: {circuit_depths_zne}\")\n",
        "    print(f\"  Two-qubit Gates: {two_qubit_gates_zne}\")\n",
        "    print(f\"  T-count: {qc_zne_transpiled.count_ops().get('t', 0)}\")"
      ],
      "metadata": {
        "id": "wQBeN36Xw2Tj"
      },
      "execution_count": null,
      "outputs": []
    }
  ]
}